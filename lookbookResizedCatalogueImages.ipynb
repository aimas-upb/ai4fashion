{
 "cells": [
  {
   "cell_type": "code",
   "execution_count": null,
   "metadata": {},
   "outputs": [],
   "source": [
    "#Create dataset (The dataset used is \"LookBook\", from https://dgyoo.github.io/)"
   ]
  },
  {
   "cell_type": "code",
   "execution_count": null,
   "metadata": {},
   "outputs": [],
   "source": [
    "#Select catalogue images from lookbook dataset\n",
    "\n",
    "import glob\n",
    "import pandas as pd \n",
    "from IPython.display import Image, display\n",
    "import os\n",
    "import shutil\n",
    "    \n",
    "for imageName in glob.glob('pathToOriginalDataset/*.JPG'):\n",
    "    if (imageName.find('CLEAN1') != -1): \n",
    "        #print(os.path.basename(imageName).split('.')[-2])\n",
    "        shutil.copy(imageName, 'pathToCreatedDataset')"
   ]
  },
  {
   "cell_type": "code",
   "execution_count": null,
   "metadata": {},
   "outputs": [],
   "source": [
    "#Resize images from lookbook and add white border (256*256)\n",
    "\n",
    "import os, sys\n",
    "from PIL import Image, ImageOps\n",
    "import glob\n",
    "from IPython.display import display\n",
    "\n",
    "size = 256, 256\n",
    "for imageName in glob.glob(r\"pathToCreatedDataset/*.JPG\"):\n",
    "    outfile = os.path.splitext(imageName)[0] + \".thumbnail\"\n",
    "    im = Image.open(imageName)\n",
    "    im.thumbnail(size, Image.ANTIALIAS)\n",
    "\n",
    "    width, height = im.size\n",
    "    border = (int)((256-width)/2)\n",
    "    borderH = (int)((256-height)/2)\n",
    "    width, height = im.size\n",
    "    if width % 2 == 1:\n",
    "        img_with_border = ImageOps.expand(im,border=(border,0,border+1,0),fill='white')\n",
    "    else: \n",
    "        img_with_border = ImageOps.expand(im,border=(border,0,border,0),fill='white')\n",
    "        \n",
    "    if height % 2 == 1:\n",
    "        img_with_border = ImageOps.expand(im,border=(0,borderH,0,borderH+1),fill='white')\n",
    "    else: \n",
    "        img_with_border = ImageOps.expand(im,border=(0,borderH,0,borderH),fill='white')\n",
    "        \n",
    "    \n",
    "    img_with_border.save(imageName)"
   ]
  }
 ],
 "metadata": {
  "kernelspec": {
   "display_name": "Python 3",
   "language": "python",
   "name": "python3"
  },
  "language_info": {
   "codemirror_mode": {
    "name": "ipython",
    "version": 3
   },
   "file_extension": ".py",
   "mimetype": "text/x-python",
   "name": "python",
   "nbconvert_exporter": "python",
   "pygments_lexer": "ipython3",
   "version": "3.7.4"
  }
 },
 "nbformat": 4,
 "nbformat_minor": 2
}
