{
 "cells": [
  {
   "cell_type": "code",
   "execution_count": null,
   "metadata": {},
   "outputs": [],
   "source": [
    "#Get Dominant Color from images - Small Fashion dataset (https://www.kaggle.com/paramaggarwal/fashion-product-images-small)"
   ]
  },
  {
   "cell_type": "code",
   "execution_count": 2,
   "metadata": {},
   "outputs": [],
   "source": [
    "import os\n",
    "from colorthief import ColorThief\n",
    "import colorsys\n",
    "\n",
    "SMALL_FASHION_DATASET_PATH = 'pathToSmallFashionDataset'\n",
    "\n",
    "def rgb_to_hsv(r, g, b):\n",
    "    r, g, b = r/255, g/255, b/255\n",
    "    mx = max(r, g, b)\n",
    "    mn = min(r, g, b)\n",
    "    df = mx-mn\n",
    "    if mx == mn:\n",
    "        h = 0\n",
    "    elif mx == r:\n",
    "        h = (60 * ((g-b)/df) + 360) % 360\n",
    "    elif mx == g:\n",
    "        h = (60 * ((b-r)/df) + 120) % 360\n",
    "    elif mx == b:\n",
    "        h = (60 * ((r-g)/df) + 240) % 360\n",
    "    if mx == 0:\n",
    "        s = 0\n",
    "    else:\n",
    "        s = (df/mx)*100\n",
    "    v = mx*100\n",
    "    return h, s, v\n",
    "\n",
    "for filename in os.listdir(SMALL_FASHION_DATASET_PATH): \n",
    "    if(os.path.isfile(SMALL_FASHION_DATASET_PATH + filename)):\n",
    "        color_thief = ColorThief(SMALL_FASHION_DATASET_PATH + filename)\n",
    "\n",
    "        # get the dominant color\n",
    "        dominant_color = color_thief.get_color(quality=1)\n",
    "        red = dominant_color[0];\n",
    "        green = dominant_color[1];\n",
    "        blue = dominant_color[2];\n",
    "\n",
    "        hsv_color = rgb_to_hsv(dominant_color[0],dominant_color[1], dominant_color[2])\n",
    "        hls_color = colorsys.rgb_to_hls(dominant_color[0],dominant_color[1], dominant_color[2])\n",
    "\n",
    "        h = hsv_color[0]\n",
    "\n",
    "\n",
    "        colors = [[0, 30, \"red\"], [31, 45, \"orange\"], [46, 75, \"yellow\"], [76, 180, \"green\"],  [181, 270, \"blue\"], \n",
    "                 [271, 300, \"purple\"], [301, 345, \"pink\"], [346, 361, \"red\"]]\n",
    "\n",
    "        #Check if r, g, b values are similar and <= 64 => black\n",
    "        if(abs(red-green) <=10 and abs(green-blue)<=10 and red <= 64):\n",
    "            dst = 'black_' + filename\n",
    "            src = SMALL_FASHION_DATASET_PATH+ filename \n",
    "            dst = SMALL_FASHION_DATASET_PATH+ dst \n",
    "            os.rename(src, dst) \n",
    "        elif(200 <= red <= 255 and 200 <= green <= 255 and 200 <= blue <= 255):\n",
    "            dst = 'white_' + filename\n",
    "            src = SMALL_FASHION_DATASET_PATH+ filename \n",
    "            dst = SMALL_FASHION_DATASET_PATH+ dst \n",
    "            os.rename(src, dst) \n",
    "        elif(abs(red-green) <=10 and abs(green-blue)<=10 and 65 <= red <= 229):\n",
    "            dst = 'grey_' + filename\n",
    "            src = SMALL_FASHION_DATASET_PATH + filename \n",
    "            dst = SMALL_FASHION_DATASET_PATH+ dst \n",
    "            os.rename(src, dst) \n",
    "        else:\n",
    "            for i in range(len(colors)):\n",
    "                if h >= colors[i][0] and h <= colors[i][1]:\n",
    "                    dst = colors[i][2] + \"_\" + filename\n",
    "                    src = SMALL_FASHION_DATASET_PATH + filename \n",
    "                    dst = SMALL_FASHION_DATASET_PATH + dst \n",
    "                    os.rename(src, dst) "
   ]
  },
  {
   "cell_type": "code",
   "execution_count": null,
   "metadata": {},
   "outputs": [],
   "source": []
  }
 ],
 "metadata": {
  "kernelspec": {
   "display_name": "Python 3",
   "language": "python",
   "name": "python3"
  },
  "language_info": {
   "codemirror_mode": {
    "name": "ipython",
    "version": 3
   },
   "file_extension": ".py",
   "mimetype": "text/x-python",
   "name": "python",
   "nbconvert_exporter": "python",
   "pygments_lexer": "ipython3",
   "version": "3.7.4"
  }
 },
 "nbformat": 4,
 "nbformat_minor": 2
}
